{
  "nbformat": 4,
  "nbformat_minor": 0,
  "metadata": {
    "colab": {
      "provenance": []
    },
    "kernelspec": {
      "name": "python3",
      "display_name": "Python 3"
    },
    "language_info": {
      "name": "python"
    }
  },
  "cells": [
    {
      "cell_type": "markdown",
      "source": [
        "# **Theory Questions:**"
      ],
      "metadata": {
        "id": "YPhI9aZRWiai"
      }
    },
    {
      "cell_type": "markdown",
      "source": [
        "**Q-1** What is the difference between a function and a method in Python?\n",
        "\n",
        "ANS- In Python, the terms function and method are closely related but differ in an important way:\n",
        "\n",
        "* **Function**\n",
        "\n",
        "A function is a block of reusable code that performs a specific task.\n",
        "\n",
        "It is not bound to any object.\n",
        "\n",
        "Defined using the def keyword or lambda.\n",
        "\n",
        "Can exist independently, outside of classes.\n",
        "\n",
        "* **Method**\n",
        "\n",
        "A method is a function that is associated with an object — usually defined inside a class.\n",
        "\n",
        "It operates on the instance (object) it belongs to, and can access/modify its internal state via self.\n",
        "\n",
        "You call a method on an object.\n",
        "\n",
        "**Example**: - def greet(name):\n",
        "    return f\"Hello, {name}!\"\n"
      ],
      "metadata": {
        "id": "V5w6fUgNWpCH"
      }
    },
    {
      "cell_type": "markdown",
      "source": [
        "**Q-2 ** Explain the concept of function arguments and parameters in Python.\n",
        "\n",
        "ANS-They both relate to how we pass data into a function, but they are used at different stages.\n",
        "\n",
        "* **Parameters**\n",
        "\n",
        "These are the placeholders or variables used when defining a function.\n",
        "\n",
        "Think of them as input names the function is expecting.\n",
        "* **Arguments**\n",
        "\n",
        "These are the actual values you pass into the function when calling it.\n",
        "\n",
        "Arguments are assigned to the parameters.\n",
        "\n",
        "example:- def greet(name):\n",
        "    print(\"Hello,\", name)\n",
        "\n"
      ],
      "metadata": {
        "id": "Y0PBl1MDWxuo"
      }
    },
    {
      "cell_type": "markdown",
      "source": [
        "**Q-3** What are the different ways to define and call a function in Python?\n",
        "\n",
        "ANS- In Python, functions are defined and called in several different ways depending on your needs. Here's a breakdown of the different ways to define and call functions:\n",
        "1. Basic Function Definition and Call\n",
        "2. Function with Parameters\n",
        "3. Function with Default Parameters\n",
        "4. Function with Return Values\n",
        "5. *Function with args (Variable Positional Arguments)\n",
        "6. **Function with kwargs (Variable Keyword Arguments)\n",
        "7. Lambda (Anonymous) Functions\n",
        "8. Recursive Functions\n",
        "\n",
        "EXAMPLE:- def greet():\n",
        "    print(\"Hello!\")\n"
      ],
      "metadata": {
        "id": "LvxT1T0ZYbaY"
      }
    },
    {
      "cell_type": "markdown",
      "source": [
        "**Q-4 ** What is the purpose of the `return` statement in a Python function?\n",
        "\n",
        "ANS- Purpose of the return Statement in Python:\n",
        "\n",
        "The return statement is used to send back a value from a function to the caller.\n",
        "\n",
        "🔹 Key Points:\n",
        "\n",
        "* It ends the function execution.\n",
        "\n",
        "* It returns data (any type: int, string, list, etc.).\n",
        "\n",
        "* Without return, the function returns None by default.\n",
        "\n",
        "EXAMPLE- def add(a, b):\n",
        "return a + b\n"
      ],
      "metadata": {
        "id": "EP6xiuJhZg25"
      }
    },
    {
      "cell_type": "markdown",
      "source": [
        "**Q-5** What are iterators in Python and how do they differ from iterables?\n",
        "\n",
        "ANS- These two terms are related but have key differences.\n",
        "1. Iterable\n",
        "\n",
        "* An iterable is any Python object that can be looped over (i.e., used in a for loop).\n",
        "\n",
        "* It does not produce values one at a time by itself.\n",
        "\n",
        "* Examples: list, tuple, string, dict, set\n",
        "\n",
        "2. Iterator\n",
        "\n",
        "* An iterator is an object that produces values one at a time using the __next__() method.\n",
        "\n",
        "* It remembers its position and can be manually advanced.\n",
        "\n",
        "* Created from an iterable using the iter() function.\n",
        "\n",
        "EXAMPLE:-1  my_list = [1, 2, 3]\n",
        "for item in my_list:  # my_list is an iterable\n",
        "    print(item)\n",
        "EXAMPLE:-2 my_list = [1, 2, 3]\n",
        "it = iter(my_list)      # creates an iterator\n",
        "print(next(it))         # 1\n",
        "print(next(it))         # 2\n",
        "\n"
      ],
      "metadata": {
        "id": "ikqp69KaaFn5"
      }
    },
    {
      "cell_type": "markdown",
      "source": [
        "**Q-6**  Explain the concept of generators in Python and how they are defined.\n",
        "\n",
        "ANS- A generator is a special type of function in Python that yields values one at a time, instead of returning them all at once.It returns a generator object, which is an iterator. Generators are memory-efficient and support lazy evaluation.\n",
        "\n",
        "EXAMPLE:- def count_up_to(n):\n",
        "    count = 1\n",
        "    while count <= n:\n",
        "        yield count\n",
        "        count += 1\n"
      ],
      "metadata": {
        "id": "ipToP4QLartC"
      }
    },
    {
      "cell_type": "markdown",
      "source": [
        "**Q-7** What are the advantages of using generators over regular functions?\n",
        "\n",
        "ANS- Advantages of Using Generators over Regular Functions in Python:\n",
        "\n",
        "* Memory efficient: Yield values one at a time, no need to store entire result.\n",
        "* Lazy evaluation: Compute values only when needed.\n",
        "\n",
        "* Faster start: Begin producing results immediately.\n",
        "\n",
        "* Maintain state: Remember execution context between yields.\n",
        "\n",
        "* Simpler iterator creation: Easier to write than full iterator classes.\n",
        "\n",
        "example:- def gen_numbers():\n",
        "    for i in range(1000000):\n",
        "        yield i"
      ],
      "metadata": {
        "id": "txdItxZYbLB4"
      }
    },
    {
      "cell_type": "markdown",
      "source": [
        "**Q-8** What is a lambda function in Python and when is it typically used?\n",
        "\n",
        "ANS- A lambda function is a small anonymous function defined using the lambda keyword. It can take any number of arguments but contains only a single expression, which is returned automatically.\n",
        "\n",
        "When is it typically used:-\n",
        "\n",
        "* For short, simple functions without needing to formally define a def.\n",
        "\n",
        "* Often used inline as an argument to functions like map(), filter(), and sorted().\n",
        "\n",
        "* When a throwaway function is needed temporarily.\n",
        "\n",
        "EXAMPLE:- lambda arguments: expression\n",
        "\n",
        "add = lambda x, y: x + y\n",
        "print(add(2, 3))  # Output: 5\n"
      ],
      "metadata": {
        "id": "FXFmc_LlbNPX"
      }
    },
    {
      "cell_type": "markdown",
      "source": [
        "**Q-9** Explain the purpose and usage of the `map()` function in Python.\n",
        "\n",
        "ANS- The map() function in Python is used to apply a function to every item in an iterable (like a list, tuple, etc.) and return a map object (which is an iterator) with the results.\n",
        "\n",
        "* **Purpose of map()**\n",
        "\n",
        "* To transform items in a collection using a function.\n",
        "\n",
        "* It helps write clean, readable, and functional-style code.\n",
        "\n",
        "* Avoids the need for explicit loops when applying the same operation to multiple items.\n",
        "\n",
        "* **When to Use map()**\n",
        "\n",
        "* When you want to apply the same transformation to each element of an iterable.\n",
        "\n",
        "* When you're trying to write more functional-style, concise code.\n",
        "\n",
        "EXAMPLE:- # Function to square a number\n",
        "\n",
        "\n",
        "def square(x):\n",
        "    return x * x\n",
        "\n",
        "numbers = [1, 2, 3, 4]\n",
        "squared = map(square, numbers)\n",
        "print(list(squared))  # Output: [1, 4, 9, 16]\n"
      ],
      "metadata": {
        "id": "UbSWceCldFY_"
      }
    },
    {
      "cell_type": "markdown",
      "source": [
        "**Q-10** What is the difference between `map()`, `reduce()`, and `filter()` functions in Python?\n",
        "\n",
        "ANS- Here's a short and clear comparison of map(), reduce(), and filter() in Python:\n",
        "\n",
        "**🔹 map()**\n",
        "\n",
        "* Purpose: Applies a function to each item in an iterable.\n",
        "\n",
        "* Returns: A map object (iterator) with transformed items.\n",
        "\n",
        "**🔹 filter()**\n",
        "\n",
        "* Purpose: Filters items from an iterable based on a condition.\n",
        "\n",
        "* Returns: A filter object (iterator) with items where the function returns True.\n",
        "\n",
        "**🔹 reduce()**\n",
        "\n",
        "*  Purpose: Repeatedly applies a function to accumulate a single result from the iterable.\n",
        "\n",
        "* Returns: A single value.\n",
        "\n",
        "EXAMPLE:- nums = [1, 2, 3]\n",
        "squared = list(map(lambda x: x**2, nums))  # [1, 4, 9]\n"
      ],
      "metadata": {
        "id": "byddzuUieVpn"
      }
    },
    {
      "cell_type": "markdown",
      "source": [
        "**Q-11** Using pen & Paper write the internal mechanism for sum operation using  reduce function on this given\n",
        "list:[47,11,42,13]\n",
        "\n",
        "ANS- attach in doc 2nd page"
      ],
      "metadata": {
        "id": "PsGT19mUfvaV"
      }
    },
    {
      "cell_type": "markdown",
      "source": [
        "# **Practical Questions:**"
      ],
      "metadata": {
        "id": "BVm5ewGDfyYm"
      }
    },
    {
      "cell_type": "markdown",
      "source": [
        "Q-1 Write a Python function that takes a list of numbers as input and returns the sum of all even numbers in\n",
        "the list."
      ],
      "metadata": {
        "id": "AcqPiESqf5NG"
      }
    },
    {
      "cell_type": "code",
      "metadata": {
        "colab": {
          "base_uri": "https://localhost:8080/"
        },
        "id": "ea18dbe5",
        "outputId": "1b8f96d6-a91b-4702-cfa7-e448ae7bafed"
      },
      "source": [
        "def sum_even_numbers(numbers):\n",
        "  even_sum = 0\n",
        "  for number in numbers:\n",
        "    if number % 2 == 0:\n",
        "      even_sum += number\n",
        "  return even_sum\n",
        "  my_list = [1, 2, 3, 4, 5, 6]\n",
        "result = sum_even_numbers(my_list)\n",
        "print(\"Sum of even numbers:\", result)"
      ],
      "execution_count": null,
      "outputs": [
        {
          "output_type": "stream",
          "name": "stdout",
          "text": [
            "Sum of even numbers: 12\n"
          ]
        }
      ]
    },
    {
      "cell_type": "markdown",
      "source": [
        "Q-2 Create a Python function that accepts a string and returns the reverse of that string"
      ],
      "metadata": {
        "id": "sq4lBnroiYSO"
      }
    },
    {
      "cell_type": "code",
      "source": [
        "def reverse_string(text):\n",
        "    return text[::-1]\n",
        "input_str = \"hello\"\n",
        "reversed_str = reverse_string(input_str)\n",
        "print(\"Reversed string:\", reversed_str)\n"
      ],
      "metadata": {
        "colab": {
          "base_uri": "https://localhost:8080/"
        },
        "id": "our9gA0hiafG",
        "outputId": "dfbb791b-2d53-4bcc-d0ac-7c98975430e4"
      },
      "execution_count": null,
      "outputs": [
        {
          "output_type": "stream",
          "name": "stdout",
          "text": [
            "Reversed string: olleh\n"
          ]
        }
      ]
    },
    {
      "cell_type": "markdown",
      "source": [
        "Q-3 Implement a Python function that takes a list of integers and returns a new list containing the squares of each number."
      ],
      "metadata": {
        "id": "xPoiljFfiwL5"
      }
    },
    {
      "cell_type": "code",
      "source": [
        "def square_numbers(numbers):\n",
        "    return [num ** 2 for num in numbers]\n",
        "my_list = [1, 2, 3, 4, 5]\n",
        "squared_list = square_numbers(my_list)\n",
        "print(\"Squared numbers:\", squared_list)\n"
      ],
      "metadata": {
        "colab": {
          "base_uri": "https://localhost:8080/"
        },
        "id": "CuCUGeAmizX-",
        "outputId": "4faa3336-6d13-4130-8921-527a8cee2b20"
      },
      "execution_count": null,
      "outputs": [
        {
          "output_type": "stream",
          "name": "stdout",
          "text": [
            "Squared numbers: [1, 4, 9, 16, 25]\n"
          ]
        }
      ]
    },
    {
      "cell_type": "markdown",
      "source": [
        "Q-4 Write a Python function that checks if a given number is prime or not from 1 to 200."
      ],
      "metadata": {
        "id": "IF0OogR3jB2O"
      }
    },
    {
      "cell_type": "code",
      "source": [
        "def is_prime(n):\n",
        "    if n <= 1 or n > 200:\n",
        "        return False\n",
        "    if n == 2:\n",
        "        return True\n",
        "    if n % 2 == 0:\n",
        "        return False\n",
        "    for i in range(3, int(n**0.5) + 1, 2):\n",
        "        if n % i == 0:\n",
        "            return False\n",
        "    return True\n",
        "for num in [1, 2, 17, 20, 199, 201]:\n",
        "    print(f\"{num} is prime? {is_prime(num)}\")\n"
      ],
      "metadata": {
        "colab": {
          "base_uri": "https://localhost:8080/"
        },
        "id": "nsHhiTnRjEK2",
        "outputId": "6de40fa7-b4ed-484d-f02c-4a905869f98b"
      },
      "execution_count": null,
      "outputs": [
        {
          "output_type": "stream",
          "name": "stdout",
          "text": [
            "1 is prime? False\n",
            "2 is prime? True\n",
            "17 is prime? True\n",
            "20 is prime? False\n",
            "199 is prime? True\n",
            "201 is prime? False\n"
          ]
        }
      ]
    },
    {
      "cell_type": "markdown",
      "source": [
        "Q-5 Create an iterator class in Python that generates the Fibonacci sequence up to a specified number of\n",
        "terms."
      ],
      "metadata": {
        "id": "u-6OfwB0jRx_"
      }
    },
    {
      "cell_type": "code",
      "source": [
        "class FibonacciIterator:\n",
        "    def __init__(self, n_terms):\n",
        "        self.n_terms = n_terms\n",
        "        self.index = 0\n",
        "        self.a = 0\n",
        "        self.b = 1\n",
        "\n",
        "    def __iter__(self):\n",
        "        return self\n",
        "\n",
        "    def __next__(self):\n",
        "        if self.index >= self.n_terms:\n",
        "            raise StopIteration\n",
        "\n",
        "        if self.index == 0:\n",
        "            self.index += 1\n",
        "            return 0\n",
        "        elif self.index == 1:\n",
        "            self.index += 1\n",
        "            return 1\n",
        "        else:\n",
        "            next_value = self.a + self.b\n",
        "            self.a, self.b = self.b, next_value\n",
        "            self.index += 1\n",
        "            return next_value\n",
        "\n",
        "fib_iter = FibonacciIterator(10)\n",
        "for num in fib_iter:\n",
        "    print(num)\n"
      ],
      "metadata": {
        "colab": {
          "base_uri": "https://localhost:8080/"
        },
        "id": "6vS6HbRfjXdG",
        "outputId": "b381423c-73d9-4470-9f67-eb488c196baf"
      },
      "execution_count": null,
      "outputs": [
        {
          "output_type": "stream",
          "name": "stdout",
          "text": [
            "0\n",
            "1\n",
            "1\n",
            "2\n",
            "3\n",
            "5\n",
            "8\n",
            "13\n",
            "21\n",
            "34\n"
          ]
        }
      ]
    },
    {
      "cell_type": "markdown",
      "source": [
        "Q-6 Write a generator function in Python that yields the powers of 2 up to a given exponent."
      ],
      "metadata": {
        "id": "o3o8bNLpjh7u"
      }
    },
    {
      "cell_type": "code",
      "source": [
        "def powers_of_two(max_exponent):\n",
        "    for exp in range(max_exponent + 1):\n",
        "        yield 2 ** exp\n",
        "\n",
        "for value in powers_of_two(5):\n",
        "    print(value)\n"
      ],
      "metadata": {
        "colab": {
          "base_uri": "https://localhost:8080/"
        },
        "id": "LXKzHM1BjkwH",
        "outputId": "269893bb-f275-43b7-f236-6c458e6e8ba7"
      },
      "execution_count": null,
      "outputs": [
        {
          "output_type": "stream",
          "name": "stdout",
          "text": [
            "1\n",
            "2\n",
            "4\n",
            "8\n",
            "16\n",
            "32\n"
          ]
        }
      ]
    },
    {
      "cell_type": "markdown",
      "source": [
        "Q-7  Implement a generator function that reads a file line by line and yields each line as a string."
      ],
      "metadata": {
        "id": "1JuN3_ONjswe"
      }
    },
    {
      "cell_type": "code",
      "source": [
        "def read_file_lines(file_path):\n",
        "    with open(file_path, 'r') as file:\n",
        "        for line in file:\n",
        "            yield line.rstrip('\\n')\n"
      ],
      "metadata": {
        "id": "vI22uqEmpMw-"
      },
      "execution_count": null,
      "outputs": []
    },
    {
      "cell_type": "markdown",
      "source": [
        "Q-8  Use a lambda function in Python to sort a list of tuples based on the second element of each tuple."
      ],
      "metadata": {
        "id": "jDWoYYSNj2n3"
      }
    },
    {
      "cell_type": "code",
      "source": [
        "my_list = [(1, 3), (4, 1), (2, 2), (5, 0)]\n",
        "sorted_list = sorted(my_list, key=lambda x: x[1])\n",
        "print(sorted_list)\n"
      ],
      "metadata": {
        "colab": {
          "base_uri": "https://localhost:8080/"
        },
        "id": "RvMn9X5lj50u",
        "outputId": "8d8248a1-1563-493b-f003-266e274133de"
      },
      "execution_count": null,
      "outputs": [
        {
          "output_type": "stream",
          "name": "stdout",
          "text": [
            "[(5, 0), (4, 1), (2, 2), (1, 3)]\n"
          ]
        }
      ]
    },
    {
      "cell_type": "markdown",
      "source": [
        "Q-9 Write a Python program that uses `map()` to convert a list of temperatures from Celsius to Fahrenheit"
      ],
      "metadata": {
        "id": "Gy4C9YlIkPlm"
      }
    },
    {
      "cell_type": "code",
      "source": [
        "def celsius_to_fahrenheit(c):\n",
        "    return (c * 9/5) + 32\n",
        "\n",
        "celsius_temps = [0, 20, 37, 100]\n",
        "fahrenheit_temps = list(map(celsius_to_fahrenheit, celsius_temps))\n",
        "\n",
        "print(fahrenheit_temps)\n"
      ],
      "metadata": {
        "colab": {
          "base_uri": "https://localhost:8080/"
        },
        "id": "bL_PLPKCkSw3",
        "outputId": "e621281b-f75c-4359-db8c-ba56c90bb52b"
      },
      "execution_count": null,
      "outputs": [
        {
          "output_type": "stream",
          "name": "stdout",
          "text": [
            "[32.0, 68.0, 98.6, 212.0]\n"
          ]
        }
      ]
    },
    {
      "cell_type": "markdown",
      "source": [
        "Q-10  Create a Python program that uses `filter()` to remove all the vowels from a given string."
      ],
      "metadata": {
        "id": "uKue7FONkgwu"
      }
    },
    {
      "cell_type": "code",
      "source": [
        "def remove_vowels(s):\n",
        "    vowels = \"aeiouAEIOU\"\n",
        "    return ''.join(filter(lambda char: char not in vowels, s))\n",
        "\n",
        "input_str = \"Hello, World!\"\n",
        "result = remove_vowels(input_str)\n",
        "print(result)\n"
      ],
      "metadata": {
        "colab": {
          "base_uri": "https://localhost:8080/"
        },
        "id": "RPULFnMykixW",
        "outputId": "a2bc230d-86fb-4dec-e412-77bb657507b9"
      },
      "execution_count": null,
      "outputs": [
        {
          "output_type": "stream",
          "name": "stdout",
          "text": [
            "Hll, Wrld!\n"
          ]
        }
      ]
    },
    {
      "cell_type": "markdown",
      "source": [
        "Q-11  Imagine an accounting routine used in a book shop. It works on a list with sublists, which look like this:\n",
        "\n",
        " Write a Python program, which returns a list with 2-tuples. Each tuple consists of the order number and the\n",
        "product of the price per item and the quantity. The product should be increased by 10,- € if the value of the\n",
        "order is smaller than 100,00 €.\n",
        "\n",
        " Write a Python program using lambda and map."
      ],
      "metadata": {
        "id": "lP8PWHlx41ya"
      }
    },
    {
      "cell_type": "code",
      "source": [
        "orders = [\n",
        "    [34587, \"Learning Python, Mark Lutz\", 4, 40.95],\n",
        "    [98762, \"Programming Python, Mark Lutz\", 5, 56.80],\n",
        "    [77226, \"Head First Python, Paul Barry\", 3, 32.95],\n",
        "    [88112, \"Einführung in Python3, Bernd Klein\", 3, 24.99]\n",
        "]\n",
        "# Lambda function to calculate total price\n",
        "result = list(map(lambda order: (\n",
        "    order[0],\n",
        "    order[2] * order[3] if order[2] * order[3] >= 100 else order[2] * order[3] + 10\n",
        "), orders))\n",
        "\n",
        "print(result)"
      ],
      "metadata": {
        "colab": {
          "base_uri": "https://localhost:8080/"
        },
        "id": "TwPku8S-4O5j",
        "outputId": "b5eec1e9-a35a-49f7-f616-f1ebdc610193"
      },
      "execution_count": null,
      "outputs": [
        {
          "output_type": "stream",
          "name": "stdout",
          "text": [
            "[(34587, 163.8), (98762, 284.0), (77226, 108.85000000000001), (88112, 84.97)]\n"
          ]
        }
      ]
    }
  ]
}